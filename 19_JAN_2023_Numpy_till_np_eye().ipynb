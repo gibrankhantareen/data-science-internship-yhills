{
  "nbformat": 4,
  "nbformat_minor": 0,
  "metadata": {
    "colab": {
      "provenance": []
    },
    "kernelspec": {
      "name": "python3",
      "display_name": "Python 3"
    },
    "language_info": {
      "name": "python"
    }
  },
  "cells": [
    {
      "cell_type": "code",
      "execution_count": 2,
      "metadata": {
        "id": "OUr5QwICX6PD"
      },
      "outputs": [],
      "source": [
        "### These all notes are made by Gibran Khan Tareen. I have made it for other student's reference and also for my personal revision ###\n",
        "\n",
        "# Notes Begins below #\n",
        "\n",
        "# NumPy is a Python library used for big mathematical functions\n",
        "\n",
        "## NUMPY Full form is Numerical Python\n",
        "## NUM = NUMerical \n",
        "## PY = PYthon\n",
        "\n",
        "# To use Numpy library we will first have to import it\n",
        "## Syntax => import numpy as aliasname\n",
        "\n",
        "import numpy as np "
      ]
    },
    {
      "cell_type": "code",
      "source": [
        "# How will I create an Array with Numpy?\n",
        "\n",
        "## Syntax => nameofarray = np.array([value1,value2,...])\n",
        "\n",
        "### IMP- Whenever we do INDEXING, SLICING and LISTs we will be using Square Brackets []\n",
        "\n",
        "gibran_ka_array = np.array([1,2,3])\n",
        "gibran_ka_array"
      ],
      "metadata": {
        "colab": {
          "base_uri": "https://localhost:8080/"
        },
        "id": "3lOhdjE84r8q",
        "outputId": "5507b819-6cbe-446d-8df8-ab8c1cb11a1d"
      },
      "execution_count": 8,
      "outputs": [
        {
          "output_type": "execute_result",
          "data": {
            "text/plain": [
              "array([1, 2, 3])"
            ]
          },
          "metadata": {},
          "execution_count": 8
        }
      ]
    },
    {
      "cell_type": "code",
      "source": [
        "# What will I do if I want to Create an output like below:\n",
        "## 1  2  3\n",
        "## 4  5  6\n",
        "## 7  8  9\n",
        "\n",
        "# Normal array is like [val1 , val2 , val3 ....]\n",
        "# The concept which we will use for it is of \"List inside List\". Means we will make an array but we are making each array-item a seperate list\n",
        "\n",
        "## Syntax => arrayname = [[val1, val2, val3] , [val4, val5, val6], [val7,val8,val9]] {As mentioned above, for making Lists we use []}\n",
        "\n",
        "gibran_list_ki_list = [[1,2,3],[4,5,6],[7,8,9]]\n",
        "gibran_list_ki_list\n"
      ],
      "metadata": {
        "colab": {
          "base_uri": "https://localhost:8080/"
        },
        "id": "5F3hZTW95SBH",
        "outputId": "d3c4bdbd-45fe-442a-c115-c38ef61614c0"
      },
      "execution_count": 7,
      "outputs": [
        {
          "output_type": "execute_result",
          "data": {
            "text/plain": [
              "[[1, 2, 3], [4, 5, 6], [7, 8, 9]]"
            ]
          },
          "metadata": {},
          "execution_count": 7
        }
      ]
    },
    {
      "cell_type": "code",
      "source": [
        "# Numpy's arange function\n",
        "\n",
        "# Yes it is not a typing mistake. \n",
        "## This function is written as 'arange' not arrange. 'arange' means \"a range\" or an interval.\n",
        "### Its very simple. As the name suggests, it is used to get a range of values \n",
        "\n",
        "### Syntax => np.arange(starting_value, stop_value, step) \n",
        "\n",
        "# IMP Points: \n",
        "## 'starting_value' is the \"Lower Limit\" or a value from which our range starts. By default it is 0\n",
        "## 'stop_value' is the \"Upper limit\" or the ending value which you want to keep for your range\n",
        "## \"step\" refers to the size of interval which we want to keep between the start value and ending value. Default step value is 1\n",
        "\n",
        "# VERY IMP=> If I say np.arange(1,5) it simply means Range of numbers \"BETWEEN\" 1 to 5. Which simply means 1, 2, 3, 4 and NOT INCLUDING 5 (between means beechme)\n",
        "\n",
        "# Those who did not understand the 'between' concept or WHY do we NOT include the STOP_VALUE also, it can be understood by the example given below.\n",
        "## If I start a journey from Ludhiana to Delhi. To complete my I will have to I travell accross Ludhiana, Sirhind, CityX, CityY, CityZ and finally reach Delhi. \n",
        "## On arriving Delhi I will go to my hotel my journey will get STOPPED. \n",
        "## So can I say that on my journey from Ludhiana to Delhi, I have travelled accross DELHI also?? Answer is NO.\n",
        "## That is why we do not include the last ENDING_VALUE in np.arrange()\n",
        "\n",
        "np.arange(1,10)\n"
      ],
      "metadata": {
        "colab": {
          "base_uri": "https://localhost:8080/"
        },
        "id": "9zJGHjd-7ZLc",
        "outputId": "b8d6e170-f9a2-4e80-c38f-306ee3ea90f0"
      },
      "execution_count": 13,
      "outputs": [
        {
          "output_type": "execute_result",
          "data": {
            "text/plain": [
              "array([1, 2, 3, 4, 5, 6, 7, 8, 9])"
            ]
          },
          "metadata": {},
          "execution_count": 13
        }
      ]
    },
    {
      "cell_type": "code",
      "source": [
        "### Numpy's np.arange() function with a STEP\n",
        "\n",
        "## If i write np.arange(1,10, 2) this simply means it will get me a range of numbers between 1 and 10 (including 1 and excluding 10 as explained above)\n",
        "## What STEP will do in this, it will start from START_VALUE = 1 and till before 10, and the generate more numbers with a spacing of 2 between the values.\n",
        "## Which means 1, 1+2, 1+2+2, 1+2+2+2 and 1+2+2+2+2 ; All of which will be < 10\n",
        "\n",
        "np.arange(1,10,2)"
      ],
      "metadata": {
        "colab": {
          "base_uri": "https://localhost:8080/"
        },
        "id": "jR2CW2gDBb76",
        "outputId": "2715e664-c7d1-421c-8e53-329b0878452f"
      },
      "execution_count": 15,
      "outputs": [
        {
          "output_type": "execute_result",
          "data": {
            "text/plain": [
              "array([1, 3, 5, 7, 9])"
            ]
          },
          "metadata": {},
          "execution_count": 15
        }
      ]
    },
    {
      "cell_type": "code",
      "source": [
        "# Numpy's np.zeros() function\n",
        "\n",
        "## This function is used to get number of zeros are given in the parameter\n",
        "## IMP => Output of 0s by default is of FLOAT Datatype\n",
        "\n",
        "# SYNTAX => np.zeros(5) will generate 5 0s\n",
        "\n",
        "np.zeros(5)"
      ],
      "metadata": {
        "colab": {
          "base_uri": "https://localhost:8080/"
        },
        "id": "CaXk4zjoBseD",
        "outputId": "05a4ec3e-a812-4f69-b267-5d7f1cac6cc6"
      },
      "execution_count": 16,
      "outputs": [
        {
          "output_type": "execute_result",
          "data": {
            "text/plain": [
              "array([0., 0., 0., 0., 0.])"
            ]
          },
          "metadata": {},
          "execution_count": 16
        }
      ]
    },
    {
      "cell_type": "code",
      "source": [
        "### If I do not want FLOAT in np.zeros() function\n",
        "\n",
        "## For this I just need to give \"int\" as a parameter\n",
        "\n",
        "# SYNTAX=> np.zeros(5,INT) or np.zeros(5, dtype=int)\n",
        "\n",
        "np.zeros(5,int)"
      ],
      "metadata": {
        "colab": {
          "base_uri": "https://localhost:8080/"
        },
        "id": "0afqqr4aDVka",
        "outputId": "0efa1f32-5a94-461b-e671-059d4cfd4db0"
      },
      "execution_count": 18,
      "outputs": [
        {
          "output_type": "execute_result",
          "data": {
            "text/plain": [
              "array([0, 0, 0, 0, 0])"
            ]
          },
          "metadata": {},
          "execution_count": 18
        }
      ]
    },
    {
      "cell_type": "code",
      "source": [
        "# Numpy's np.ones() function\n",
        "\n",
        "## Similar to np.zeros(), this function is used to get number of 'ones' are given in the parameter\n",
        "## IMP => Output of 1(s) by default is of FLOAT Datatype\n",
        "\n",
        "np.ones(5)"
      ],
      "metadata": {
        "colab": {
          "base_uri": "https://localhost:8080/"
        },
        "id": "rAOy2JP1Dn7x",
        "outputId": "9a31e585-96f0-47b0-c2de-faaf5a4f6a98"
      },
      "execution_count": 19,
      "outputs": [
        {
          "output_type": "execute_result",
          "data": {
            "text/plain": [
              "array([1., 1., 1., 1., 1.])"
            ]
          },
          "metadata": {},
          "execution_count": 19
        }
      ]
    },
    {
      "cell_type": "code",
      "source": [
        "### If I do not want FLOAT in np.ones() function\n",
        "\n",
        "## Similar to np.zeros() for this I just need to give \"int\" as a parameter\n",
        "\n",
        "# SYNTAX=> np.ones(5,int) or np.zeros(5, dtype=int)\n",
        "\n",
        "np.ones(5,int)"
      ],
      "metadata": {
        "colab": {
          "base_uri": "https://localhost:8080/"
        },
        "id": "SNpvn7ZkEUcP",
        "outputId": "df56a0a2-9f0b-433d-b58d-55bad20ecda6"
      },
      "execution_count": 20,
      "outputs": [
        {
          "output_type": "execute_result",
          "data": {
            "text/plain": [
              "array([1, 1, 1, 1, 1])"
            ]
          },
          "metadata": {},
          "execution_count": 20
        }
      ]
    },
    {
      "cell_type": "code",
      "source": [
        "#### If i want to create an array of zeros but in 2 rows and 3 columns\n",
        "\n",
        "# SYNTAX=> np.zeros((num_of_rows, num_of_columns))\n",
        "\n",
        "np.zeros((2,3),int)\n"
      ],
      "metadata": {
        "colab": {
          "base_uri": "https://localhost:8080/"
        },
        "id": "lIU0PpTDEiKK",
        "outputId": "354fe83d-1490-49ca-d6c8-08b5ff46b9d7"
      },
      "execution_count": 25,
      "outputs": [
        {
          "output_type": "execute_result",
          "data": {
            "text/plain": [
              "array([[0, 0, 0],\n",
              "       [0, 0, 0]])"
            ]
          },
          "metadata": {},
          "execution_count": 25
        }
      ]
    },
    {
      "cell_type": "code",
      "source": [
        "#\n",
        "#\n",
        "#"
      ],
      "metadata": {
        "id": "wdOzWMgbEvOd"
      },
      "execution_count": 26,
      "outputs": []
    },
    {
      "cell_type": "code",
      "source": [
        "## Numpy's Linspace() function\n",
        "\n",
        "# np.linspace() function is used to get numbers spaced evenly as per the given interval\n",
        "\n",
        "# SYNTAX => np.linespace(START, END, NUM) ; here NUM is total how many numbers you want to generate \n",
        "## If we do not declare NUM value, default value is 50 ie. it will divide given range to 50 parts\n",
        "## In np.linspace(), END value is also included\n",
        "## INSHORT it is used to divide the Range (example. from 1 to 5 into X equal parts) {Let NUM = X}\n",
        "\n",
        "np.linspace(1, 5, 10) #It divides the range from 1 and 5 into 10 equal parts. They are Equally spaced 1.0, 1.0 + 0.4444, 1.0 + 0.4444 + 0.4444 ...... till 5.0"
      ],
      "metadata": {
        "colab": {
          "base_uri": "https://localhost:8080/"
        },
        "id": "SkelKnGjFgra",
        "outputId": "ba79b874-f2ae-4438-bc58-6a58a34ce4f2"
      },
      "execution_count": 36,
      "outputs": [
        {
          "output_type": "execute_result",
          "data": {
            "text/plain": [
              "array([1.        , 1.44444444, 1.88888889, 2.33333333, 2.77777778,\n",
              "       3.22222222, 3.66666667, 4.11111111, 4.55555556, 5.        ])"
            ]
          },
          "metadata": {},
          "execution_count": 36
        }
      ]
    },
    {
      "cell_type": "code",
      "source": [
        "#\n",
        "#"
      ],
      "metadata": {
        "id": "zTzgKDxPHNTQ"
      },
      "execution_count": 37,
      "outputs": []
    },
    {
      "cell_type": "code",
      "source": [
        "# Numpy's np.eye() function\n",
        "\n",
        "## Stands for Identity matrix\n",
        "\n",
        "# SYNTAX => np.eye(num_of_rows, C)\n",
        "\n",
        "# Note: C stands for no. of columns. By default C (Num_of_Columns) = Num_of_rows \n",
        "## Inshort what np.eye() does it, it generates a 2D array with 0 and 1s accross R x C values.\n",
        "## IMP=> In this, we have 1st value as 1, then in 2nd row 2nd value as one.... so on till we have a diagonal of 1s\n",
        "\n",
        "np.eye(5)"
      ],
      "metadata": {
        "colab": {
          "base_uri": "https://localhost:8080/"
        },
        "id": "5q9vGZRDIwQM",
        "outputId": "f5b4be92-e107-48a7-bea1-9820061633c0"
      },
      "execution_count": 41,
      "outputs": [
        {
          "output_type": "execute_result",
          "data": {
            "text/plain": [
              "array([[1., 0., 0., 0., 0.],\n",
              "       [0., 1., 0., 0., 0.],\n",
              "       [0., 0., 1., 0., 0.],\n",
              "       [0., 0., 0., 1., 0.],\n",
              "       [0., 0., 0., 0., 1.]])"
            ]
          },
          "metadata": {},
          "execution_count": 41
        }
      ]
    },
    {
      "cell_type": "code",
      "source": [],
      "metadata": {
        "id": "7wbacLaqIypT"
      },
      "execution_count": null,
      "outputs": []
    }
  ]
}