{
  "nbformat": 4,
  "nbformat_minor": 0,
  "metadata": {
    "colab": {
      "provenance": []
    },
    "kernelspec": {
      "name": "python3",
      "display_name": "Python 3"
    },
    "language_info": {
      "name": "python"
    }
  },
  "cells": [
    {
      "cell_type": "code",
      "execution_count": 1,
      "metadata": {
        "id": "ZzvBYbApkjEc"
      },
      "outputs": [],
      "source": [
        "## Dictionaries in Python"
      ]
    },
    {
      "cell_type": "code",
      "source": [
        "# How to write Dictionaries in Python?\n",
        "\n",
        "# IMP => In dictionaries we have a concept of KEY:VALUE\n",
        "# IMP => We use Curly brackets for Dictionaries\n",
        "\n",
        "# SYNTAX => name_of_dictionary = {key1 : value1, key2: value2 ....}\n",
        "\n",
        "gibran_dictionary = {1 : \"Gibran\", 2 : \"Dusri Value\", 3:499, 4:8.9}\n",
        "gibran_dictionary"
      ],
      "metadata": {
        "colab": {
          "base_uri": "https://localhost:8080/"
        },
        "id": "W1nLK9IYlklp",
        "outputId": "d75daada-73cf-4827-a8d5-f40e1ce17c74"
      },
      "execution_count": 3,
      "outputs": [
        {
          "output_type": "execute_result",
          "data": {
            "text/plain": [
              "{1: 'Gibran', 2: 'Dusri Value', 3: 499, 4: 8.9}"
            ]
          },
          "metadata": {},
          "execution_count": 3
        }
      ]
    },
    {
      "cell_type": "code",
      "source": [
        "#\n",
        "#\n",
        "#"
      ],
      "metadata": {
        "id": "PjK-IxZ4mLqH"
      },
      "execution_count": 4,
      "outputs": []
    },
    {
      "cell_type": "code",
      "source": [
        "# IMP => We can retrieve specific VALUE by using that item's KEY in dictionaries\n",
        "\n",
        "# SYNTAX => name_of_dictionary[key_value]\n",
        "\n",
        "gibran_dictionary[2]"
      ],
      "metadata": {
        "colab": {
          "base_uri": "https://localhost:8080/",
          "height": 35
        },
        "id": "3WGHhGkrmjiq",
        "outputId": "11379bb0-5c74-4078-dd99-96fd9ee929d1"
      },
      "execution_count": 5,
      "outputs": [
        {
          "output_type": "execute_result",
          "data": {
            "text/plain": [
              "'Dusri Value'"
            ],
            "application/vnd.google.colaboratory.intrinsic+json": {
              "type": "string"
            }
          },
          "metadata": {},
          "execution_count": 5
        }
      ]
    },
    {
      "cell_type": "code",
      "source": [
        "#\n",
        "#\n",
        "#"
      ],
      "metadata": {
        "id": "0ANgR4vvm4Bh"
      },
      "execution_count": 6,
      "outputs": []
    },
    {
      "cell_type": "code",
      "source": [
        "# IMP => We CANNOT retrieve KEY by using that item's VALUE in dictionaries\n",
        "\n",
        "gibran_dictionary[\"Gibran\"]"
      ],
      "metadata": {
        "colab": {
          "base_uri": "https://localhost:8080/",
          "height": 200
        },
        "id": "CJVPmUpKm_3x",
        "outputId": "d5a56435-7279-4d4b-d8e4-80e78f384fb8"
      },
      "execution_count": 7,
      "outputs": [
        {
          "output_type": "error",
          "ename": "KeyError",
          "evalue": "ignored",
          "traceback": [
            "\u001b[0;31m---------------------------------------------------------------------------\u001b[0m",
            "\u001b[0;31mKeyError\u001b[0m                                  Traceback (most recent call last)",
            "\u001b[0;32m<ipython-input-7-aa5233705e1f>\u001b[0m in \u001b[0;36m<module>\u001b[0;34m\u001b[0m\n\u001b[1;32m      1\u001b[0m \u001b[0;31m# IMP => We CANNOT retrieve KEY by using that item's VALUE in dictionaries\u001b[0m\u001b[0;34m\u001b[0m\u001b[0;34m\u001b[0m\u001b[0;34m\u001b[0m\u001b[0m\n\u001b[1;32m      2\u001b[0m \u001b[0;34m\u001b[0m\u001b[0m\n\u001b[0;32m----> 3\u001b[0;31m \u001b[0mgibran_dictionary\u001b[0m\u001b[0;34m[\u001b[0m\u001b[0;34m\"Gibran\"\u001b[0m\u001b[0;34m]\u001b[0m\u001b[0;34m\u001b[0m\u001b[0;34m\u001b[0m\u001b[0m\n\u001b[0m",
            "\u001b[0;31mKeyError\u001b[0m: 'Gibran'"
          ]
        }
      ]
    },
    {
      "cell_type": "code",
      "source": [
        "#\n",
        "#\n",
        "#"
      ],
      "metadata": {
        "id": "uaDjFr67nTVH"
      },
      "execution_count": 9,
      "outputs": []
    },
    {
      "cell_type": "code",
      "source": [
        "# IMP => Dictionary is MUTABLE ie. we can modify or add new KEY:VALUE pair to existing Dictionary\n",
        "\n",
        "# SYNTAX => name_of_dictionary[key] = value\n",
        "\n",
        "gibran_dictionary[5]=\"Naya Value\"\n",
        "gibran_dictionary\n"
      ],
      "metadata": {
        "colab": {
          "base_uri": "https://localhost:8080/"
        },
        "id": "HYHCZQkonq_c",
        "outputId": "c107c962-9dcf-4d68-e586-a580f2692b45"
      },
      "execution_count": 10,
      "outputs": [
        {
          "output_type": "execute_result",
          "data": {
            "text/plain": [
              "{1: 'Gibran', 2: 'Dusri Value', 3: 499, 4: 8.9, 5: 'Naya Value'}"
            ]
          },
          "metadata": {},
          "execution_count": 10
        }
      ]
    },
    {
      "cell_type": "code",
      "source": [
        "# Editing existing value\n",
        "\n",
        "gibran_dictionary[4]=\"New Edited Value\"\n",
        "gibran_dictionary"
      ],
      "metadata": {
        "colab": {
          "base_uri": "https://localhost:8080/"
        },
        "id": "nzQBHZ6ooSDe",
        "outputId": "efb7fb61-ddb3-49f3-b2da-c681a609503f"
      },
      "execution_count": 11,
      "outputs": [
        {
          "output_type": "execute_result",
          "data": {
            "text/plain": [
              "{1: 'Gibran', 2: 'Dusri Value', 3: 499, 4: 'New Edited Value', 5: 'Naya Value'}"
            ]
          },
          "metadata": {},
          "execution_count": 11
        }
      ]
    }
  ]
}