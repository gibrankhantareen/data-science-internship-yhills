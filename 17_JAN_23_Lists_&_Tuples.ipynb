{
  "nbformat": 4,
  "nbformat_minor": 0,
  "metadata": {
    "colab": {
      "provenance": []
    },
    "kernelspec": {
      "name": "python3",
      "display_name": "Python 3"
    },
    "language_info": {
      "name": "python"
    }
  },
  "cells": [
    {
      "cell_type": "code",
      "execution_count": 1,
      "metadata": {
        "id": "WJ25Bz7dZ1E8"
      },
      "outputs": [],
      "source": [
        "###Lists in Python"
      ]
    },
    {
      "cell_type": "code",
      "source": [
        "# How to write lists in Python?\n",
        "\n",
        "## We use Square brackets for Lists\n",
        "\n",
        "# SYNTAX => name_of_list = [value1, value2 ....]\n",
        "\n",
        "gibran_list = [\"Gibran\",6,499,8.9]\n",
        "gibran_list"
      ],
      "metadata": {
        "colab": {
          "base_uri": "https://localhost:8080/"
        },
        "id": "kQR8u7osZ-Oy",
        "outputId": "504a643a-5b95-4d71-ae6b-b9bab4635466"
      },
      "execution_count": 4,
      "outputs": [
        {
          "output_type": "execute_result",
          "data": {
            "text/plain": [
              "['Gibran', 6, 499, 8.9]"
            ]
          },
          "metadata": {},
          "execution_count": 4
        }
      ]
    },
    {
      "cell_type": "code",
      "source": [
        "# In list we have items in form of Array\n",
        "## This means we can print the elements from Left side. List[0] will be 'Gibran', List[1] will be 3, List[2] will be 499 and so on....\n",
        "\n",
        "gibran_list[2]"
      ],
      "metadata": {
        "colab": {
          "base_uri": "https://localhost:8080/"
        },
        "id": "ASgHGkTbaPQi",
        "outputId": "b1f2de31-5a4b-4030-e66a-3ff93c4054c1"
      },
      "execution_count": 5,
      "outputs": [
        {
          "output_type": "execute_result",
          "data": {
            "text/plain": [
              "499"
            ]
          },
          "metadata": {},
          "execution_count": 5
        }
      ]
    },
    {
      "cell_type": "code",
      "source": [
        "# We can also print from the right side\n",
        "## Example-> List[-1] will be the last element of list, List[-2] will be 2nd last and so on..\n",
        "\n",
        "gibran_list[-2]"
      ],
      "metadata": {
        "colab": {
          "base_uri": "https://localhost:8080/"
        },
        "id": "Xfoylm-BamKL",
        "outputId": "f918fef7-6c12-4eee-d5e1-37cd4517cd33"
      },
      "execution_count": 6,
      "outputs": [
        {
          "output_type": "execute_result",
          "data": {
            "text/plain": [
              "499"
            ]
          },
          "metadata": {},
          "execution_count": 6
        }
      ]
    },
    {
      "cell_type": "code",
      "source": [
        "# List is HETEROGENOUS => Can have values with different datatypes \n",
        "# List is MUTABLE => Once we create the list we can make changes to the elements of List"
      ],
      "metadata": {
        "id": "D_HEYYM4a7H5"
      },
      "execution_count": 9,
      "outputs": []
    },
    {
      "cell_type": "code",
      "source": [
        "# How to change element in list?\n",
        "## Syntax => list[index of the element to be changed] = New Value\n",
        "\n",
        "# I will change 3rd element 499 to text \"Four99\"\n",
        "gibran_list[2] = \"Four99\"\n",
        "gibran_list"
      ],
      "metadata": {
        "colab": {
          "base_uri": "https://localhost:8080/"
        },
        "id": "FDPATnEGbUHr",
        "outputId": "d1ecb2f4-0a4f-42a5-d79e-aeb0c8496407"
      },
      "execution_count": 10,
      "outputs": [
        {
          "output_type": "execute_result",
          "data": {
            "text/plain": [
              "['Gibran', 6, 'Four99', 8.9]"
            ]
          },
          "metadata": {},
          "execution_count": 10
        }
      ]
    },
    {
      "cell_type": "code",
      "source": [
        "## Tuples in Python"
      ],
      "metadata": {
        "id": "y7wtjQjtb1_f"
      },
      "execution_count": 11,
      "outputs": []
    },
    {
      "cell_type": "code",
      "source": [
        "# How to write Tuples in Python?\n",
        "\n",
        "## We use Circular brackets for Tuples\n",
        "\n",
        "# SYNTAX => name_of_tuple = (value1, value2 ....)\n",
        "\n",
        "gibran_tuple = (\"TupleGibran\",75,1.47,\"Sample\")\n",
        "gibran_tuple "
      ],
      "metadata": {
        "colab": {
          "base_uri": "https://localhost:8080/"
        },
        "id": "2XizaUAucwgW",
        "outputId": "783d9c89-ad71-4fa0-9eca-0771b6816081"
      },
      "execution_count": 12,
      "outputs": [
        {
          "output_type": "execute_result",
          "data": {
            "text/plain": [
              "('TupleGibran', 75, 1.47, 'Sample')"
            ]
          },
          "metadata": {},
          "execution_count": 12
        }
      ]
    },
    {
      "cell_type": "code",
      "source": [
        "# In tuple also we have items in form of Array\n",
        "## This means we can print the elements from Left side. List[0] will be 'Gibran', List[1] will be 3, List[2] will be 499 and so on....\n",
        "\n",
        "gibran_tuple[0]"
      ],
      "metadata": {
        "colab": {
          "base_uri": "https://localhost:8080/",
          "height": 35
        },
        "id": "4CHfHrYrdhXv",
        "outputId": "98bea93d-01cb-49d5-b1da-a1d56e67429a"
      },
      "execution_count": 13,
      "outputs": [
        {
          "output_type": "execute_result",
          "data": {
            "text/plain": [
              "'TupleGibran'"
            ],
            "application/vnd.google.colaboratory.intrinsic+json": {
              "type": "string"
            }
          },
          "metadata": {},
          "execution_count": 13
        }
      ]
    },
    {
      "cell_type": "code",
      "source": [
        "# Can we change element in Tuples?\n",
        "gibran_tuple(1) = \"Four99\"\n",
        "gibran_tuple"
      ],
      "metadata": {
        "colab": {
          "base_uri": "https://localhost:8080/",
          "height": 130
        },
        "id": "nV-OBTlVd2_e",
        "outputId": "dab570a3-6933-4461-b5d0-3a544659dbb6"
      },
      "execution_count": 16,
      "outputs": [
        {
          "output_type": "error",
          "ename": "SyntaxError",
          "evalue": "ignored",
          "traceback": [
            "\u001b[0;36m  File \u001b[0;32m\"<ipython-input-16-90611032d156>\"\u001b[0;36m, line \u001b[0;32m2\u001b[0m\n\u001b[0;31m    gibran_tuple(1) = \"Four99\"\u001b[0m\n\u001b[0m    ^\u001b[0m\n\u001b[0;31mSyntaxError\u001b[0m\u001b[0;31m:\u001b[0m cannot assign to function call\n"
          ]
        }
      ]
    },
    {
      "cell_type": "code",
      "source": [
        "# Above code error proves that=> Tuple is NOT MUTABLE => Once we create the list we CANNOT make changes to the elements of tuples\n",
        "\n",
        "# Also, Tuple is HETEROGENOUS => Can have values with different datatypes"
      ],
      "metadata": {
        "id": "b3XXAvSJdpZt"
      },
      "execution_count": 18,
      "outputs": []
    },
    {
      "cell_type": "code",
      "source": [],
      "metadata": {
        "id": "q19UkqDmeDwS"
      },
      "execution_count": null,
      "outputs": []
    }
  ]
}