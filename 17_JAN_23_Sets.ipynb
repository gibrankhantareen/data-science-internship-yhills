{
  "nbformat": 4,
  "nbformat_minor": 0,
  "metadata": {
    "colab": {
      "provenance": []
    },
    "kernelspec": {
      "name": "python3",
      "display_name": "Python 3"
    },
    "language_info": {
      "name": "python"
    }
  },
  "cells": [
    {
      "cell_type": "code",
      "execution_count": 1,
      "metadata": {
        "id": "ak2u2TrSe4Ea"
      },
      "outputs": [],
      "source": [
        "###Sets in Python"
      ]
    },
    {
      "cell_type": "code",
      "source": [
        "# How to write Sets in Python?\n",
        "\n",
        "## IMP => We use Curly brackets for creating Sets\n",
        "\n",
        "# SYNTAX => name_of_set = {value1, value2 ....}\n",
        "\n",
        "gibran_set = {\"Gibran\",1,3,15,11,34.5,\"Thirty five\",41}\n",
        "gibran_set"
      ],
      "metadata": {
        "colab": {
          "base_uri": "https://localhost:8080/"
        },
        "id": "YRKNB2J-fDmr",
        "outputId": "0f4d5cd7-b505-42db-9228-509b0313f877"
      },
      "execution_count": 15,
      "outputs": [
        {
          "output_type": "execute_result",
          "data": {
            "text/plain": [
              "{1, 11, 15, 3, 34.5, 41, 'Gibran', 'Thirty five'}"
            ]
          },
          "metadata": {},
          "execution_count": 15
        }
      ]
    },
    {
      "cell_type": "code",
      "source": [
        "# IMP => In Set, we see above that it sorts the elements according to FIRST CHARACTER only (in Ascending order)\n",
        "## That is why after 15 we got 3 because after 1 comes 3\n",
        "#\n",
        "#\n",
        "#."
      ],
      "metadata": {
        "id": "DDijfU12fsU1"
      },
      "execution_count": 5,
      "outputs": []
    },
    {
      "cell_type": "code",
      "source": [
        "# Can I retrieve elements from set via their Index?\n",
        "gibran_set[0]"
      ],
      "metadata": {
        "colab": {
          "base_uri": "https://localhost:8080/",
          "height": 235
        },
        "id": "Yg4aSFmhgt1I",
        "outputId": "7f1dc946-7899-45be-d3d5-79a28812d6c6"
      },
      "execution_count": 9,
      "outputs": [
        {
          "output_type": "error",
          "ename": "TypeError",
          "evalue": "ignored",
          "traceback": [
            "\u001b[0;31m---------------------------------------------------------------------------\u001b[0m",
            "\u001b[0;31mTypeError\u001b[0m                                 Traceback (most recent call last)",
            "\u001b[0;32m<ipython-input-9-b2e9d09f53d1>\u001b[0m in \u001b[0;36m<module>\u001b[0;34m\u001b[0m\n\u001b[1;32m      1\u001b[0m \u001b[0;31m# Can I retrieve elements from set via their Index?\u001b[0m\u001b[0;34m\u001b[0m\u001b[0;34m\u001b[0m\u001b[0;34m\u001b[0m\u001b[0m\n\u001b[0;32m----> 2\u001b[0;31m \u001b[0mgibran_set\u001b[0m\u001b[0;34m[\u001b[0m\u001b[0;36m0\u001b[0m\u001b[0;34m]\u001b[0m\u001b[0;34m\u001b[0m\u001b[0;34m\u001b[0m\u001b[0m\n\u001b[0m\u001b[1;32m      3\u001b[0m \u001b[0;34m\u001b[0m\u001b[0m\n\u001b[1;32m      4\u001b[0m \u001b[0;34m\u001b[0m\u001b[0m\n\u001b[1;32m      5\u001b[0m \u001b[0;31m# This means we can print the elements from Left side. List[0] will be 'Gibran', List[1] will be 3, List[2] will be 499 and so on....\u001b[0m\u001b[0;34m\u001b[0m\u001b[0;34m\u001b[0m\u001b[0;34m\u001b[0m\u001b[0m\n",
            "\u001b[0;31mTypeError\u001b[0m: 'set' object is not subscriptable"
          ]
        }
      ]
    },
    {
      "cell_type": "code",
      "source": [
        "# IMP => This error means we CANNOT retrieve elements via their index ie.\n",
        "#\n",
        "#\n",
        "#\n",
        "#."
      ],
      "metadata": {
        "id": "j4uquYzbgyt8"
      },
      "execution_count": 17,
      "outputs": []
    },
    {
      "cell_type": "code",
      "source": [
        "## Can I change a specific element's value in sets?\n",
        "gibran_set[0] = \"Four99\" #This is called Item Assignment which is NOT possible in sets"
      ],
      "metadata": {
        "colab": {
          "base_uri": "https://localhost:8080/",
          "height": 183
        },
        "id": "UeMcJwU1hSJ8",
        "outputId": "a2d07ebb-896d-4682-ab41-794d1b7a83e8"
      },
      "execution_count": 18,
      "outputs": [
        {
          "output_type": "error",
          "ename": "TypeError",
          "evalue": "ignored",
          "traceback": [
            "\u001b[0;31m---------------------------------------------------------------------------\u001b[0m",
            "\u001b[0;31mTypeError\u001b[0m                                 Traceback (most recent call last)",
            "\u001b[0;32m<ipython-input-18-97f56f5d1cf2>\u001b[0m in \u001b[0;36m<module>\u001b[0;34m\u001b[0m\n\u001b[1;32m      1\u001b[0m \u001b[0;31m## Can I change a specific element's value in sets?\u001b[0m\u001b[0;34m\u001b[0m\u001b[0;34m\u001b[0m\u001b[0;34m\u001b[0m\u001b[0m\n\u001b[0;32m----> 2\u001b[0;31m \u001b[0mgibran_set\u001b[0m\u001b[0;34m[\u001b[0m\u001b[0;36m0\u001b[0m\u001b[0;34m]\u001b[0m \u001b[0;34m=\u001b[0m \u001b[0;34m\"Four99\"\u001b[0m \u001b[0;31m#This is called Item Assignment which is NOT possible in sets\u001b[0m\u001b[0;34m\u001b[0m\u001b[0;34m\u001b[0m\u001b[0m\n\u001b[0m",
            "\u001b[0;31mTypeError\u001b[0m: 'set' object does not support item assignment"
          ]
        }
      ]
    },
    {
      "cell_type": "code",
      "source": [
        "# IMP => This error clear shows in Sets we CANNOT make changes to the specific elements of sets.\n",
        "#\n",
        "#\n",
        "#."
      ],
      "metadata": {
        "id": "8nAo_D6XhbFi"
      },
      "execution_count": 13,
      "outputs": []
    },
    {
      "cell_type": "code",
      "source": [
        "# But we can ADD NEW elements in sets\n",
        "# IMP => Sets are MUTABLE => Once we create the add new elements to set (New Added element will be added at a position according to the ascending order)\n",
        "\n",
        "# SYNTAX => name_of_set.add(newvalue1)\n",
        "\n",
        "gibran_set.add(\"Gibran7\")\n",
        "gibran_set"
      ],
      "metadata": {
        "colab": {
          "base_uri": "https://localhost:8080/"
        },
        "id": "pIgDFv9VhyWi",
        "outputId": "23e768e1-0a19-4c9a-f066-75a507bf25a4"
      },
      "execution_count": 16,
      "outputs": [
        {
          "output_type": "execute_result",
          "data": {
            "text/plain": [
              "{1, 11, 15, 3, 34.5, 41, 'Gibran', 'Gibran7', 'Thirty five'}"
            ]
          },
          "metadata": {},
          "execution_count": 16
        }
      ]
    },
    {
      "cell_type": "code",
      "source": [
        "#\n",
        "#\n",
        "#"
      ],
      "metadata": {
        "id": "3e2MP9Ajitxz"
      },
      "execution_count": 19,
      "outputs": []
    },
    {
      "cell_type": "code",
      "source": [
        "# Can REMOVE a specific element based on value in sets\n",
        "\n",
        "# SYNTAX => name_of_set.remove(value_of_item_to_be_removed)\n",
        "\n",
        "gibran_set.remove(\"Thirty five\") #Now the item with value as 'Thirty five' will be removed from my Set\n",
        "gibran_set"
      ],
      "metadata": {
        "colab": {
          "base_uri": "https://localhost:8080/"
        },
        "id": "p5rINn4-jwoW",
        "outputId": "4bd49193-7dcf-4c03-f48c-c7faff9c769a"
      },
      "execution_count": 22,
      "outputs": [
        {
          "output_type": "execute_result",
          "data": {
            "text/plain": [
              "{1, 11, 15, 3, 34.5, 41, 'Gibran', 'Gibran7'}"
            ]
          },
          "metadata": {},
          "execution_count": 22
        }
      ]
    }
  ]
}